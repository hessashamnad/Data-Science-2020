{
 "cells": [
  {
   "cell_type": "code",
   "execution_count": 2,
   "metadata": {},
   "outputs": [],
   "source": [
    "#Importing Libraries\n",
    "import numpy as np\n",
    "import pandas as pd\n",
    "from collections import defaultdict\n",
    "import matplotlib.pyplot as plt\n",
    "import re\n",
    "%matplotlib inline\n"
   ]
  },
  {
   "cell_type": "code",
   "execution_count": 3,
   "metadata": {},
   "outputs": [
    {
     "data": {
      "text/html": [
       "<div>\n",
       "<style scoped>\n",
       "    .dataframe tbody tr th:only-of-type {\n",
       "        vertical-align: middle;\n",
       "    }\n",
       "\n",
       "    .dataframe tbody tr th {\n",
       "        vertical-align: top;\n",
       "    }\n",
       "\n",
       "    .dataframe thead th {\n",
       "        text-align: right;\n",
       "    }\n",
       "</style>\n",
       "<table border=\"1\" class=\"dataframe\">\n",
       "  <thead>\n",
       "    <tr style=\"text-align: right;\">\n",
       "      <th></th>\n",
       "      <th>Company</th>\n",
       "      <th>Title</th>\n",
       "      <th>Category</th>\n",
       "      <th>Location</th>\n",
       "      <th>Responsibilities</th>\n",
       "      <th>Minimum Qualifications</th>\n",
       "      <th>Preferred Qualifications</th>\n",
       "    </tr>\n",
       "  </thead>\n",
       "  <tbody>\n",
       "    <tr>\n",
       "      <th>0</th>\n",
       "      <td>Google</td>\n",
       "      <td>Google Cloud Program Manager</td>\n",
       "      <td>Program Management</td>\n",
       "      <td>Singapore</td>\n",
       "      <td>Shape, shepherd, ship, and show technical prog...</td>\n",
       "      <td>BA/BS degree or equivalent practical experienc...</td>\n",
       "      <td>Experience in the business technology market a...</td>\n",
       "    </tr>\n",
       "    <tr>\n",
       "      <th>1</th>\n",
       "      <td>Google</td>\n",
       "      <td>Supplier Development Engineer (SDE), Cable/Con...</td>\n",
       "      <td>Manufacturing &amp; Supply Chain</td>\n",
       "      <td>Shanghai, China</td>\n",
       "      <td>Drive cross-functional activities in the suppl...</td>\n",
       "      <td>BS degree in an Engineering discipline or equi...</td>\n",
       "      <td>BSEE, BSME or BSIE degree.\\nExperience of usin...</td>\n",
       "    </tr>\n",
       "    <tr>\n",
       "      <th>2</th>\n",
       "      <td>Google</td>\n",
       "      <td>Data Analyst, Product and Tools Operations, Go...</td>\n",
       "      <td>Technical Solutions</td>\n",
       "      <td>New York, NY, United States</td>\n",
       "      <td>Collect and analyze data to draw insight and i...</td>\n",
       "      <td>Bachelor’s degree in Business, Economics, Stat...</td>\n",
       "      <td>Experience partnering or consulting cross-func...</td>\n",
       "    </tr>\n",
       "    <tr>\n",
       "      <th>3</th>\n",
       "      <td>Google</td>\n",
       "      <td>Developer Advocate, Partner Engineering</td>\n",
       "      <td>Developer Relations</td>\n",
       "      <td>Mountain View, CA, United States</td>\n",
       "      <td>Work one-on-one with the top Android, iOS, and...</td>\n",
       "      <td>BA/BS degree in Computer Science or equivalent...</td>\n",
       "      <td>Experience as a software developer, architect,...</td>\n",
       "    </tr>\n",
       "    <tr>\n",
       "      <th>4</th>\n",
       "      <td>Google</td>\n",
       "      <td>Program Manager, Audio Visual (AV) Deployments</td>\n",
       "      <td>Program Management</td>\n",
       "      <td>Sunnyvale, CA, United States</td>\n",
       "      <td>Plan requirements with internal customers.\\nPr...</td>\n",
       "      <td>BA/BS degree or equivalent practical experienc...</td>\n",
       "      <td>CTS Certification.\\nExperience in the construc...</td>\n",
       "    </tr>\n",
       "  </tbody>\n",
       "</table>\n",
       "</div>"
      ],
      "text/plain": [
       "  Company                                              Title  \\\n",
       "0  Google                       Google Cloud Program Manager   \n",
       "1  Google  Supplier Development Engineer (SDE), Cable/Con...   \n",
       "2  Google  Data Analyst, Product and Tools Operations, Go...   \n",
       "3  Google            Developer Advocate, Partner Engineering   \n",
       "4  Google     Program Manager, Audio Visual (AV) Deployments   \n",
       "\n",
       "                       Category                          Location  \\\n",
       "0            Program Management                         Singapore   \n",
       "1  Manufacturing & Supply Chain                   Shanghai, China   \n",
       "2           Technical Solutions       New York, NY, United States   \n",
       "3           Developer Relations  Mountain View, CA, United States   \n",
       "4            Program Management      Sunnyvale, CA, United States   \n",
       "\n",
       "                                    Responsibilities  \\\n",
       "0  Shape, shepherd, ship, and show technical prog...   \n",
       "1  Drive cross-functional activities in the suppl...   \n",
       "2  Collect and analyze data to draw insight and i...   \n",
       "3  Work one-on-one with the top Android, iOS, and...   \n",
       "4  Plan requirements with internal customers.\\nPr...   \n",
       "\n",
       "                              Minimum Qualifications  \\\n",
       "0  BA/BS degree or equivalent practical experienc...   \n",
       "1  BS degree in an Engineering discipline or equi...   \n",
       "2  Bachelor’s degree in Business, Economics, Stat...   \n",
       "3  BA/BS degree in Computer Science or equivalent...   \n",
       "4  BA/BS degree or equivalent practical experienc...   \n",
       "\n",
       "                            Preferred Qualifications  \n",
       "0  Experience in the business technology market a...  \n",
       "1  BSEE, BSME or BSIE degree.\\nExperience of usin...  \n",
       "2  Experience partnering or consulting cross-func...  \n",
       "3  Experience as a software developer, architect,...  \n",
       "4  CTS Certification.\\nExperience in the construc...  "
      ]
     },
     "execution_count": 3,
     "metadata": {},
     "output_type": "execute_result"
    }
   ],
   "source": [
    "#Reading the data\n",
    "df_google = pd.read_csv(\"C:/Users/hessa.shamnad/Desktop/Data Science Project/job_skills.csv\")\n",
    "df_google.head()"
   ]
  },
  {
   "cell_type": "code",
   "execution_count": 4,
   "metadata": {},
   "outputs": [
    {
     "data": {
      "text/html": [
       "<div>\n",
       "<style scoped>\n",
       "    .dataframe tbody tr th:only-of-type {\n",
       "        vertical-align: middle;\n",
       "    }\n",
       "\n",
       "    .dataframe tbody tr th {\n",
       "        vertical-align: top;\n",
       "    }\n",
       "\n",
       "    .dataframe thead th {\n",
       "        text-align: right;\n",
       "    }\n",
       "</style>\n",
       "<table border=\"1\" class=\"dataframe\">\n",
       "  <thead>\n",
       "    <tr style=\"text-align: right;\">\n",
       "      <th></th>\n",
       "      <th>Company</th>\n",
       "      <th>Title</th>\n",
       "      <th>Category</th>\n",
       "      <th>Location</th>\n",
       "      <th>Responsibilities</th>\n",
       "      <th>Minimum Qualifications</th>\n",
       "      <th>Preferred Qualifications</th>\n",
       "    </tr>\n",
       "  </thead>\n",
       "  <tbody>\n",
       "    <tr>\n",
       "      <th>count</th>\n",
       "      <td>1250</td>\n",
       "      <td>1250</td>\n",
       "      <td>1250</td>\n",
       "      <td>1250</td>\n",
       "      <td>1235</td>\n",
       "      <td>1236</td>\n",
       "      <td>1236</td>\n",
       "    </tr>\n",
       "    <tr>\n",
       "      <th>unique</th>\n",
       "      <td>2</td>\n",
       "      <td>794</td>\n",
       "      <td>23</td>\n",
       "      <td>92</td>\n",
       "      <td>801</td>\n",
       "      <td>807</td>\n",
       "      <td>821</td>\n",
       "    </tr>\n",
       "    <tr>\n",
       "      <th>top</th>\n",
       "      <td>Google</td>\n",
       "      <td>Business Intern 2018</td>\n",
       "      <td>Sales &amp; Account Management</td>\n",
       "      <td>Mountain View, CA, United States</td>\n",
       "      <td>Responsibilities and detailed projects will be...</td>\n",
       "      <td>Must be pursuing a full-time MBA program with ...</td>\n",
       "      <td>Interest in the technology industry and Google...</td>\n",
       "    </tr>\n",
       "    <tr>\n",
       "      <th>freq</th>\n",
       "      <td>1227</td>\n",
       "      <td>35</td>\n",
       "      <td>168</td>\n",
       "      <td>190</td>\n",
       "      <td>33</td>\n",
       "      <td>32</td>\n",
       "      <td>32</td>\n",
       "    </tr>\n",
       "  </tbody>\n",
       "</table>\n",
       "</div>"
      ],
      "text/plain": [
       "       Company                 Title                    Category  \\\n",
       "count     1250                  1250                        1250   \n",
       "unique       2                   794                          23   \n",
       "top     Google  Business Intern 2018  Sales & Account Management   \n",
       "freq      1227                    35                         168   \n",
       "\n",
       "                                Location  \\\n",
       "count                               1250   \n",
       "unique                                92   \n",
       "top     Mountain View, CA, United States   \n",
       "freq                                 190   \n",
       "\n",
       "                                         Responsibilities  \\\n",
       "count                                                1235   \n",
       "unique                                                801   \n",
       "top     Responsibilities and detailed projects will be...   \n",
       "freq                                                   33   \n",
       "\n",
       "                                   Minimum Qualifications  \\\n",
       "count                                                1236   \n",
       "unique                                                807   \n",
       "top     Must be pursuing a full-time MBA program with ...   \n",
       "freq                                                   32   \n",
       "\n",
       "                                 Preferred Qualifications  \n",
       "count                                                1236  \n",
       "unique                                                821  \n",
       "top     Interest in the technology industry and Google...  \n",
       "freq                                                   32  "
      ]
     },
     "execution_count": 4,
     "metadata": {},
     "output_type": "execute_result"
    }
   ],
   "source": [
    "df_google.describe()"
   ]
  },
  {
   "cell_type": "markdown",
   "metadata": {},
   "source": [
    "### What is the most Demaded Programming Language?"
   ]
  },
  {
   "cell_type": "code",
   "execution_count": 5,
   "metadata": {},
   "outputs": [
    {
     "name": "stdout",
     "output_type": "stream",
     "text": [
      "{'python': 97, 'java': 76, 'c++': 54, 'php': 7, 'javascript': 77, 'objective-c': 3, 'ruby': 14, 'perl': 6, 'c': 18, 'c#': 15, 'sql': 73, 'kotlin': 3}\n"
     ]
    }
   ],
   "source": [
    "language_list = ['python', 'java', 'c++', 'php', 'javascript', 'objective-c', 'ruby', 'perl','c','c#', 'sql','kotlin']\n",
    "min_qualification = df_google['Minimum Qualifications'].tolist()\n",
    "min_qualification_str = \"\".join(str(v) for v in min_qualification).lower()\n",
    "\n",
    "program_count = dict((x,0) for x in language_list)\n",
    "for w in re.findall(r\"[\\w'+#-]+|[.!?;']\", min_qualification_str):\n",
    "    if w in program_count:\n",
    "        program_count[w] += 1\n",
    "        \n",
    "print(program_count)"
   ]
  },
  {
   "cell_type": "code",
   "execution_count": 6,
   "metadata": {},
   "outputs": [
    {
     "name": "stdout",
     "output_type": "stream",
     "text": [
      "[('python', 97), ('javascript', 77), ('java', 76), ('sql', 73), ('c++', 54), ('c', 18), ('c#', 15), ('ruby', 14), ('php', 7), ('perl', 6), ('objective-c', 3), ('kotlin', 3)]\n"
     ]
    }
   ],
   "source": [
    "language_demand = sorted(program_count.items(), key = lambda x: x[1], reverse=True)\n",
    "print(language_demand)"
   ]
  },
  {
   "cell_type": "code",
   "execution_count": 7,
   "metadata": {},
   "outputs": [
    {
     "name": "stdout",
     "output_type": "stream",
     "text": [
      "  Programming Languages  Demand\n",
      "4                   c++      54\n",
      "3                   sql      73\n",
      "2                  java      76\n",
      "1            javascript      77\n",
      "0                python      97\n"
     ]
    }
   ],
   "source": [
    "language_df = pd.DataFrame(language_demand, columns = ['Programming Languages', 'Demand'])\n",
    "language_df['Demand'] = language_df.Demand.astype('int')\n",
    "language_df = language_df.iloc[::-1]\n",
    "language_top = language_df.tail(5)\n",
    "print(language_top)"
   ]
  },
  {
   "cell_type": "code",
   "execution_count": 8,
   "metadata": {},
   "outputs": [
    {
     "data": {
      "text/plain": [
       "<function matplotlib.pyplot.show(*args, **kw)>"
      ]
     },
     "execution_count": 8,
     "metadata": {},
     "output_type": "execute_result"
    },
    {
     "data": {
      "image/png": "[encoded data removed]",
      "text/plain": [
       "<Figure size 720x504 with 1 Axes>"
      ]
     },
     "metadata": {
      "needs_background": "light"
     },
     "output_type": "display_data"
    }
   ],
   "source": [
    "colors = plt.cm.Pastel1(np.linspace(0, 1, 10))\n",
    "language_top.plot(kind = 'barh',x = 'Programming Languages', y = 'Demand', legend = False, figsize= (10,7), color= colors)\n",
    "plt.suptitle('Top 5 Programming Language Demanded at Google', fontsize = 15, color = 'red')\n",
    "plt.ylabel('Programming Languages', size = 15, color = 'grey', alpha = 1)\n",
    "plt.xlabel(\"Demand\", size = 15, color = 'grey', alpha = 1)\n",
    "plt.yticks(fontsize = 12, color = 'Black')\n",
    "plt.show"
   ]
  },
  {
   "cell_type": "markdown",
   "metadata": {},
   "source": [
    "### How many years of work experience do you need at google?"
   ]
  },
  {
   "cell_type": "code",
   "execution_count": 9,
   "metadata": {},
   "outputs": [
    {
     "name": "stdout",
     "output_type": "stream",
     "text": [
      "defaultdict(<function <lambda> at 0x000002166DB700D8>, {'3 years': 114, '7 years': 41, '2 years': 60, '4 years': 92, '10 years': 76, '5 years': 181, '12 years': 18, '8 years': 65, '6 years': 60, '9 years': 8, '15 years': 4, '13 years': 1, '11 years': 1, '14 years': 1})\n"
     ]
    }
   ],
   "source": [
    "work_exp = defaultdict(lambda: 0)\n",
    "for x in re.findall(r'[0-9]+ years', min_qualification_str):\n",
    "    work_exp[x] += 1\n",
    "print(work_exp)"
   ]
  },
  {
   "cell_type": "code",
   "execution_count": 10,
   "metadata": {},
   "outputs": [
    {
     "data": {
      "text/html": [
       "<div>\n",
       "<style scoped>\n",
       "    .dataframe tbody tr th:only-of-type {\n",
       "        vertical-align: middle;\n",
       "    }\n",
       "\n",
       "    .dataframe tbody tr th {\n",
       "        vertical-align: top;\n",
       "    }\n",
       "\n",
       "    .dataframe thead th {\n",
       "        text-align: right;\n",
       "    }\n",
       "</style>\n",
       "<table border=\"1\" class=\"dataframe\">\n",
       "  <thead>\n",
       "    <tr style=\"text-align: right;\">\n",
       "      <th></th>\n",
       "      <th>Years</th>\n",
       "      <th>Demand</th>\n",
       "    </tr>\n",
       "  </thead>\n",
       "  <tbody>\n",
       "    <tr>\n",
       "      <th>4</th>\n",
       "      <td>8 years</td>\n",
       "      <td>65</td>\n",
       "    </tr>\n",
       "    <tr>\n",
       "      <th>3</th>\n",
       "      <td>10 years</td>\n",
       "      <td>76</td>\n",
       "    </tr>\n",
       "    <tr>\n",
       "      <th>2</th>\n",
       "      <td>4 years</td>\n",
       "      <td>92</td>\n",
       "    </tr>\n",
       "    <tr>\n",
       "      <th>1</th>\n",
       "      <td>3 years</td>\n",
       "      <td>114</td>\n",
       "    </tr>\n",
       "    <tr>\n",
       "      <th>0</th>\n",
       "      <td>5 years</td>\n",
       "      <td>181</td>\n",
       "    </tr>\n",
       "  </tbody>\n",
       "</table>\n",
       "</div>"
      ],
      "text/plain": [
       "      Years  Demand\n",
       "4   8 years      65\n",
       "3  10 years      76\n",
       "2   4 years      92\n",
       "1   3 years     114\n",
       "0   5 years     181"
      ]
     },
     "execution_count": 10,
     "metadata": {},
     "output_type": "execute_result"
    }
   ],
   "source": [
    "work_exp = sorted(work_exp.items(), key=lambda x: x[1], reverse=True)\n",
    "work_exp_df = pd.DataFrame(work_exp, columns = ['Years', 'Demand'])\n",
    "work_exp_df = work_exp_df[::-1]\n",
    "work_exp_df.tail(5)"
   ]
  },
  {
   "cell_type": "code",
   "execution_count": 11,
   "metadata": {},
   "outputs": [
    {
     "data": {
      "text/plain": [
       "<function matplotlib.pyplot.show(*args, **kw)>"
      ]
     },
     "execution_count": 11,
     "metadata": {},
     "output_type": "execute_result"
    },
    {
     "data": {
      "image/png": "[encoded data removed]",
      "text/plain": [
       "<Figure size 720x720 with 1 Axes>"
      ]
     },
     "metadata": {
      "needs_background": "light"
     },
     "output_type": "display_data"
    }
   ],
   "source": [
    "colors = plt.cm.winter(np.linspace(0, 1, 20))\n",
    "work_exp_df.plot(kind = 'bar', x = 'Years', y = 'Demand', figsize = (10,10), legend = False, stacked = True, color = colors)\n",
    "plt.title('Years of Work Experience', fontsize = 15, color = 'red')\n",
    "plt.xlabel(\"Years\",size = 15, color = 'Black', alpha = 1)\n",
    "plt.ylabel('Demand', size = 15, color = 'Black', alpha = 1)\n",
    "plt.yticks(fontsize = 12, color = 'Black')\n",
    "plt.xticks(fontsize = 12, color = 'Black')\n",
    "plt.show"
   ]
  },
  {
   "cell_type": "code",
   "execution_count": 12,
   "metadata": {},
   "outputs": [
    {
     "name": "stdout",
     "output_type": "stream",
     "text": [
      "{'bachelor': 15, \"bachelor's\": 147, 'ba': 800, 'bs': 877, 'master': 32, \"master's\": 49, 'ma': 1, 'mba': 73, 'phd': 8}\n"
     ]
    }
   ],
   "source": [
    "degree_list = [\"bachelor\", \"bachelor's\", \"ba\", \"bs\", \"master\", \"master's\", \"ma\", \"mba\", \"phd\"]\n",
    "degree_count = dict((x,0) for x in degree_list)\n",
    "for w in re.findall(r\"[\\w'+#-]+|[.!?;']\", min_qualification_str):\n",
    "    if w in degree_count:\n",
    "        degree_count[w] += 1\n",
    "        \n",
    "print(degree_count)"
   ]
  },
  {
   "cell_type": "code",
   "execution_count": 21,
   "metadata": {},
   "outputs": [
    {
     "data": {
      "text/html": [
       "<div>\n",
       "<style scoped>\n",
       "    .dataframe tbody tr th:only-of-type {\n",
       "        vertical-align: middle;\n",
       "    }\n",
       "\n",
       "    .dataframe tbody tr th {\n",
       "        vertical-align: top;\n",
       "    }\n",
       "\n",
       "    .dataframe thead th {\n",
       "        text-align: right;\n",
       "    }\n",
       "</style>\n",
       "<table border=\"1\" class=\"dataframe\">\n",
       "  <thead>\n",
       "    <tr style=\"text-align: right;\">\n",
       "      <th></th>\n",
       "      <th>Degree</th>\n",
       "      <th>Demand</th>\n",
       "    </tr>\n",
       "  </thead>\n",
       "  <tbody>\n",
       "    <tr>\n",
       "      <th>4</th>\n",
       "      <td>master's</td>\n",
       "      <td>49</td>\n",
       "    </tr>\n",
       "    <tr>\n",
       "      <th>3</th>\n",
       "      <td>mba</td>\n",
       "      <td>73</td>\n",
       "    </tr>\n",
       "    <tr>\n",
       "      <th>2</th>\n",
       "      <td>bachelor's</td>\n",
       "      <td>147</td>\n",
       "    </tr>\n",
       "    <tr>\n",
       "      <th>1</th>\n",
       "      <td>ba</td>\n",
       "      <td>800</td>\n",
       "    </tr>\n",
       "    <tr>\n",
       "      <th>0</th>\n",
       "      <td>bs</td>\n",
       "      <td>877</td>\n",
       "    </tr>\n",
       "  </tbody>\n",
       "</table>\n",
       "</div>"
      ],
      "text/plain": [
       "       Degree  Demand\n",
       "4    master's      49\n",
       "3         mba      73\n",
       "2  bachelor's     147\n",
       "1          ba     800\n",
       "0          bs     877"
      ]
     },
     "execution_count": 21,
     "metadata": {},
     "output_type": "execute_result"
    }
   ],
   "source": [
    "degree_demand = sorted(degree_count.items(), key=lambda x: x[1], reverse=True)\n",
    "degree_df = pd.DataFrame(degree_demand, columns = ['Degree', 'Demand'])\n",
    "degree_df = degree_df[::-1]\n",
    "degree_df.tail(5)"
   ]
  },
  {
   "cell_type": "code",
   "execution_count": 25,
   "metadata": {},
   "outputs": [
    {
     "data": {
      "text/plain": [
       "<function matplotlib.pyplot.show(*args, **kw)>"
      ]
     },
     "execution_count": 25,
     "metadata": {},
     "output_type": "execute_result"
    },
    {
     "data": {
      "image/png": "[encoded data removed]",
      "text/plain": [
       "<Figure size 720x720 with 1 Axes>"
      ]
     },
     "metadata": {
      "needs_background": "light"
     },
     "output_type": "display_data"
    }
   ],
   "source": [
    "colors = plt.cm.RdBu(np.linspace(0, 1, 20))\n",
    "degree_df.plot(kind = 'barh', x = 'Degree', y = 'Demand', figsize = (10,10), legend = False, stacked = True, color = colors)\n",
    "plt.title('Most Demanded Degree under Minimum Qualification', fontsize = 15, color = 'red')\n",
    "plt.ylabel(\"Degree\",color = 'Black', size = 14)\n",
    "plt.yticks(fontsize = 12, color = 'Black')\n",
    "plt.xticks(fontsize = 12, color = 'Black')\n",
    "plt.show"
   ]
  },
  {
   "cell_type": "code",
   "execution_count": null,
   "metadata": {},
   "outputs": [],
   "source": []
  }
 ],
 "metadata": {
  "kernelspec": {
   "display_name": "Python 3",
   "language": "python",
   "name": "python3"
  },
  "language_info": {
   "codemirror_mode": {
    "name": "ipython",
    "version": 3
   },
   "file_extension": ".py",
   "mimetype": "text/x-python",
   "name": "python",
   "nbconvert_exporter": "python",
   "pygments_lexer": "ipython3",
   "version": "3.7.6"
  }
 },
 "nbformat": 4,
 "nbformat_minor": 4
}
